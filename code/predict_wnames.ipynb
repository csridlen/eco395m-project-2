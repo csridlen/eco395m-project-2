{
 "cells": [
  {
   "cell_type": "code",
   "execution_count": 1,
   "id": "04dcc672-9629-43d3-aa04-b4840ee73752",
   "metadata": {},
   "outputs": [
    {
     "name": "stdout",
     "output_type": "stream",
     "text": [
      "Checking whether there is an H2O instance running at http://localhost:54321 . connected.\n"
     ]
    },
    {
     "data": {
      "text/html": [
       "<div style=\"overflow:auto\"><table style=\"width:50%\"><tr><td>H2O_cluster_uptime:</td>\n",
       "<td>17 mins 41 secs</td></tr>\n",
       "<tr><td>H2O_cluster_timezone:</td>\n",
       "<td>America/Chicago</td></tr>\n",
       "<tr><td>H2O_data_parsing_timezone:</td>\n",
       "<td>UTC</td></tr>\n",
       "<tr><td>H2O_cluster_version:</td>\n",
       "<td>3.36.1.1</td></tr>\n",
       "<tr><td>H2O_cluster_version_age:</td>\n",
       "<td>29 days </td></tr>\n",
       "<tr><td>H2O_cluster_name:</td>\n",
       "<td>H2O_from_python_abbyjohnson_jboy44</td></tr>\n",
       "<tr><td>H2O_cluster_total_nodes:</td>\n",
       "<td>1</td></tr>\n",
       "<tr><td>H2O_cluster_free_memory:</td>\n",
       "<td>630 Mb</td></tr>\n",
       "<tr><td>H2O_cluster_total_cores:</td>\n",
       "<td>8</td></tr>\n",
       "<tr><td>H2O_cluster_allowed_cores:</td>\n",
       "<td>8</td></tr>\n",
       "<tr><td>H2O_cluster_status:</td>\n",
       "<td>locked, healthy</td></tr>\n",
       "<tr><td>H2O_connection_url:</td>\n",
       "<td>http://localhost:54321</td></tr>\n",
       "<tr><td>H2O_connection_proxy:</td>\n",
       "<td>{\"http\": null, \"https\": null}</td></tr>\n",
       "<tr><td>H2O_internal_security:</td>\n",
       "<td>False</td></tr>\n",
       "<tr><td>Python_version:</td>\n",
       "<td>3.9.7 final</td></tr></table></div>"
      ],
      "text/plain": [
       "--------------------------  ----------------------------------\n",
       "H2O_cluster_uptime:         17 mins 41 secs\n",
       "H2O_cluster_timezone:       America/Chicago\n",
       "H2O_data_parsing_timezone:  UTC\n",
       "H2O_cluster_version:        3.36.1.1\n",
       "H2O_cluster_version_age:    29 days\n",
       "H2O_cluster_name:           H2O_from_python_abbyjohnson_jboy44\n",
       "H2O_cluster_total_nodes:    1\n",
       "H2O_cluster_free_memory:    630 Mb\n",
       "H2O_cluster_total_cores:    8\n",
       "H2O_cluster_allowed_cores:  8\n",
       "H2O_cluster_status:         locked, healthy\n",
       "H2O_connection_url:         http://localhost:54321\n",
       "H2O_connection_proxy:       {\"http\": null, \"https\": null}\n",
       "H2O_internal_security:      False\n",
       "Python_version:             3.9.7 final\n",
       "--------------------------  ----------------------------------"
      ]
     },
     "metadata": {},
     "output_type": "display_data"
    }
   ],
   "source": [
    "from word2vec_functions import *\n",
    "import h2o\n",
    "h2o.init()\n",
    "import numpy as np\n",
    "import pandas as pd\n",
    "from math import sqrt\n",
    "from h2o.estimators.word2vec import H2OWord2vecEstimator\n",
    "from h2o.estimators.gbm import H2OGradientBoostingEstimator\n",
    "import sklearn\n",
    "from sklearn import ensemble\n",
    "from sklearn.model_selection import train_test_split\n",
    "from sklearn.preprocessing import OneHotEncoder\n",
    "from sklearn.preprocessing import OrdinalEncoder\n",
    "from sklearn.pipeline import make_pipeline\n",
    "from sklearn.compose import make_column_transformer\n"
   ]
  },
  {
   "cell_type": "code",
   "execution_count": 2,
   "id": "dac8c2e6-af7a-45c0-81d2-4a6af0b6c367",
   "metadata": {},
   "outputs": [
    {
     "name": "stdout",
     "output_type": "stream",
     "text": [
      "Parse progress: |████████████████████████████████████████████████████████████████| (done) 100%\n",
      "word2vec Model Build progress: |█████████████████████████████████████████████████| (done) 100%\n"
     ]
    }
   ],
   "source": [
    "# Initializing word2vec model\n",
    "airbnb_path = \"../data/newnh_airbnb_2021.csv\"\n",
    "airbnb_names = h2o.import_file(airbnb_path, destination_frame = \"airbnbnames\",\n",
    "                             header = 1)\n",
    "# Create word vectors\n",
    "words = tokenize(airbnb_names[\"name\"])\n",
    "w2v_model = H2OWord2vecEstimator(sent_sample_rate = 0.0, epochs = 10)\n",
    "w2v_model.train(training_frame = words)\n",
    "airbnb_names_vecs = w2v_model.transform(words, aggregate_method = \"AVERAGE\")\n",
    "valid_airbnb_names = ~ airbnb_names_vecs[\"C1\"].isna()\n",
    "data = airbnb_names[valid_airbnb_names,:].cbind(airbnb_names_vecs[valid_airbnb_names,:])\n",
    "data_split = data.split_frame(ratios=[0.8])"
   ]
  },
  {
   "cell_type": "code",
   "execution_count": 3,
   "id": "773032a8-ea82-442a-b457-db02d05e779d",
   "metadata": {},
   "outputs": [
    {
     "name": "stdout",
     "output_type": "stream",
     "text": [
      "gbm Model Build progress: |██████████████████████████████████████████████████████| (done) 100%\n",
      "['C83', 'C31', 'C48', 'C84', 'C62', 'C66', 'C45', 'C67', 'C20', 'C94', 'C53', 'C5', 'C70', 'C32', 'C88', 'C81', 'C16', 'C96', 'C49', 'C15']\n"
     ]
    }
   ],
   "source": [
    "gbm_model = H2OGradientBoostingEstimator()\n",
    "gbm_model.train(x = airbnb_names_vecs.names,\n",
    "                y= \"price\", \n",
    "                training_frame = data_split[0], \n",
    "                validation_frame = data_split[1])\n",
    "\n",
    "# We can't just rely on the names because RMSE is pretty high\n",
    "\n",
    "varimp = gbm_model.varimp(use_pandas=True)\n",
    "top_20 = list(varimp.head(20)[\"variable\"])\n",
    "print(top_20)"
   ]
  },
  {
   "cell_type": "code",
   "execution_count": 4,
   "id": "6a61f3e4-4a4d-4ba0-a057-3c18e9b0c354",
   "metadata": {},
   "outputs": [
    {
     "data": {
      "text/html": [
       "<table>\n",
       "<thead>\n",
       "<tr><th style=\"text-align: right;\">      C49</th><th style=\"text-align: right;\">         C5</th><th style=\"text-align: right;\">       C84</th><th style=\"text-align: right;\">      C67</th><th style=\"text-align: right;\">       C15</th><th style=\"text-align: right;\">       C32</th><th style=\"text-align: right;\">       C81</th><th style=\"text-align: right;\">       C83</th><th style=\"text-align: right;\">       C20</th><th style=\"text-align: right;\">        C16</th><th style=\"text-align: right;\">     C53</th><th style=\"text-align: right;\">        C48</th><th style=\"text-align: right;\">       C62</th><th style=\"text-align: right;\">        C45</th><th style=\"text-align: right;\">       C70</th><th style=\"text-align: right;\">       C88</th><th style=\"text-align: right;\">       C96</th><th style=\"text-align: right;\">        C66</th><th style=\"text-align: right;\">       C31</th><th style=\"text-align: right;\">       C94</th></tr>\n",
       "</thead>\n",
       "<tbody>\n",
       "<tr><td style=\"text-align: right;\">-0.226829</td><td style=\"text-align: right;\">-0.00331929</td><td style=\"text-align: right;\">-0.100867 </td><td style=\"text-align: right;\">0.0348192</td><td style=\"text-align: right;\"> 0.136442 </td><td style=\"text-align: right;\"> 0.0316466</td><td style=\"text-align: right;\">-0.194046 </td><td style=\"text-align: right;\"> 0.129924 </td><td style=\"text-align: right;\">-0.0339271</td><td style=\"text-align: right;\">-0.012946  </td><td style=\"text-align: right;\">0.070784</td><td style=\"text-align: right;\">-0.0885248 </td><td style=\"text-align: right;\"> 0.0866059</td><td style=\"text-align: right;\">-0.252656  </td><td style=\"text-align: right;\"> 0.0363556</td><td style=\"text-align: right;\">-0.107741 </td><td style=\"text-align: right;\"> 0.0716062</td><td style=\"text-align: right;\">-0.0564377 </td><td style=\"text-align: right;\">-0.10197  </td><td style=\"text-align: right;\"> 0.0225174</td></tr>\n",
       "<tr><td style=\"text-align: right;\">-0.385209</td><td style=\"text-align: right;\"> 0.00725589</td><td style=\"text-align: right;\"> 0.0308885</td><td style=\"text-align: right;\">0.118868 </td><td style=\"text-align: right;\">-0.0596237</td><td style=\"text-align: right;\">-0.0917521</td><td style=\"text-align: right;\">-0.0989658</td><td style=\"text-align: right;\"> 0.107034 </td><td style=\"text-align: right;\"> 0.146662 </td><td style=\"text-align: right;\"> 0.0453749 </td><td style=\"text-align: right;\">0.235285</td><td style=\"text-align: right;\">-0.0668755 </td><td style=\"text-align: right;\"> 0.0787157</td><td style=\"text-align: right;\">-0.180755  </td><td style=\"text-align: right;\">-0.0655932</td><td style=\"text-align: right;\">-0.0301153</td><td style=\"text-align: right;\">-0.135611 </td><td style=\"text-align: right;\">-0.237574  </td><td style=\"text-align: right;\">-0.0891468</td><td style=\"text-align: right;\"> 0.100429 </td></tr>\n",
       "<tr><td style=\"text-align: right;\">-0.227481</td><td style=\"text-align: right;\"> 0.156333  </td><td style=\"text-align: right;\">-0.0934061</td><td style=\"text-align: right;\">0.0687227</td><td style=\"text-align: right;\">-0.0164939</td><td style=\"text-align: right;\"> 0.154562 </td><td style=\"text-align: right;\">-0.159851 </td><td style=\"text-align: right;\"> 0.253024 </td><td style=\"text-align: right;\">-0.0579056</td><td style=\"text-align: right;\">-0.0131639 </td><td style=\"text-align: right;\">0.184164</td><td style=\"text-align: right;\">-0.246212  </td><td style=\"text-align: right;\"> 0.234722 </td><td style=\"text-align: right;\">-0.13871   </td><td style=\"text-align: right;\"> 0.0380687</td><td style=\"text-align: right;\">-0.0180144</td><td style=\"text-align: right;\"> 0.0809035</td><td style=\"text-align: right;\">-0.0148315 </td><td style=\"text-align: right;\"> 0.130846 </td><td style=\"text-align: right;\">-0.0874411</td></tr>\n",
       "<tr><td style=\"text-align: right;\">-0.191128</td><td style=\"text-align: right;\">-0.0149406 </td><td style=\"text-align: right;\">-0.0192827</td><td style=\"text-align: right;\">0.149606 </td><td style=\"text-align: right;\">-0.0864978</td><td style=\"text-align: right;\"> 0.0143837</td><td style=\"text-align: right;\">-0.165046 </td><td style=\"text-align: right;\">-0.155068 </td><td style=\"text-align: right;\"> 0.0103688</td><td style=\"text-align: right;\"> 0.230515  </td><td style=\"text-align: right;\">0.171771</td><td style=\"text-align: right;\">-0.253718  </td><td style=\"text-align: right;\"> 0.199631 </td><td style=\"text-align: right;\"> 0.0251822 </td><td style=\"text-align: right;\">-0.0712964</td><td style=\"text-align: right;\"> 0.16581  </td><td style=\"text-align: right;\">-0.121677 </td><td style=\"text-align: right;\">-0.133927  </td><td style=\"text-align: right;\"> 0.0305516</td><td style=\"text-align: right;\">-0.174662 </td></tr>\n",
       "<tr><td style=\"text-align: right;\">-0.222934</td><td style=\"text-align: right;\">-0.00747541</td><td style=\"text-align: right;\"> 0.203948 </td><td style=\"text-align: right;\">0.0994162</td><td style=\"text-align: right;\"> 0.0134285</td><td style=\"text-align: right;\">-0.0807283</td><td style=\"text-align: right;\">-0.0581093</td><td style=\"text-align: right;\">-0.068858 </td><td style=\"text-align: right;\"> 0.115496 </td><td style=\"text-align: right;\"> 0.198769  </td><td style=\"text-align: right;\">0.372385</td><td style=\"text-align: right;\"> 0.0288504 </td><td style=\"text-align: right;\"> 0.0296374</td><td style=\"text-align: right;\">-0.072911  </td><td style=\"text-align: right;\">-0.0770348</td><td style=\"text-align: right;\">-0.0433355</td><td style=\"text-align: right;\">-0.0762749</td><td style=\"text-align: right;\"> 0.0210361 </td><td style=\"text-align: right;\"> 0.0903293</td><td style=\"text-align: right;\">-0.239701 </td></tr>\n",
       "<tr><td style=\"text-align: right;\">-0.12449 </td><td style=\"text-align: right;\">-0.0773138 </td><td style=\"text-align: right;\">-0.0413609</td><td style=\"text-align: right;\">0.171925 </td><td style=\"text-align: right;\"> 0.0308794</td><td style=\"text-align: right;\"> 0.0259176</td><td style=\"text-align: right;\">-0.111597 </td><td style=\"text-align: right;\">-0.0650996</td><td style=\"text-align: right;\"> 0.0150474</td><td style=\"text-align: right;\"> 0.179538  </td><td style=\"text-align: right;\">0.300659</td><td style=\"text-align: right;\">-0.137604  </td><td style=\"text-align: right;\"> 0.246534 </td><td style=\"text-align: right;\">-0.0716339 </td><td style=\"text-align: right;\">-0.0213   </td><td style=\"text-align: right;\"> 0.0907684</td><td style=\"text-align: right;\"> 0.188557 </td><td style=\"text-align: right;\"> 0.0381672 </td><td style=\"text-align: right;\">-0.181886 </td><td style=\"text-align: right;\">-0.173324 </td></tr>\n",
       "<tr><td style=\"text-align: right;\">-0.303421</td><td style=\"text-align: right;\">-0.388135  </td><td style=\"text-align: right;\">-0.0609552</td><td style=\"text-align: right;\">0.0526506</td><td style=\"text-align: right;\">-0.110009 </td><td style=\"text-align: right;\"> 0.0479563</td><td style=\"text-align: right;\">-0.0429476</td><td style=\"text-align: right;\">-0.0264059</td><td style=\"text-align: right;\">-0.119237 </td><td style=\"text-align: right;\"> 0.125561  </td><td style=\"text-align: right;\">0.171829</td><td style=\"text-align: right;\"> 0.00539542</td><td style=\"text-align: right;\">-0.0167616</td><td style=\"text-align: right;\">-0.00501219</td><td style=\"text-align: right;\">-0.0934137</td><td style=\"text-align: right;\">-0.0870991</td><td style=\"text-align: right;\"> 0.0407977</td><td style=\"text-align: right;\">-0.154033  </td><td style=\"text-align: right;\">-0.0830255</td><td style=\"text-align: right;\">-0.276597 </td></tr>\n",
       "<tr><td style=\"text-align: right;\">-0.241772</td><td style=\"text-align: right;\"> 0.244356  </td><td style=\"text-align: right;\"> 0.262874 </td><td style=\"text-align: right;\">0.125109 </td><td style=\"text-align: right;\"> 0.0207956</td><td style=\"text-align: right;\">-0.0786425</td><td style=\"text-align: right;\">-0.0763643</td><td style=\"text-align: right;\"> 0.0137846</td><td style=\"text-align: right;\">-0.0255451</td><td style=\"text-align: right;\">-0.0366834 </td><td style=\"text-align: right;\">0.244543</td><td style=\"text-align: right;\">-0.153159  </td><td style=\"text-align: right;\"> 0.207124 </td><td style=\"text-align: right;\">-0.198232  </td><td style=\"text-align: right;\">-0.0839708</td><td style=\"text-align: right;\"> 0.0119481</td><td style=\"text-align: right;\">-0.143629 </td><td style=\"text-align: right;\">-0.147384  </td><td style=\"text-align: right;\"> 0.161334 </td><td style=\"text-align: right;\">-0.202488 </td></tr>\n",
       "<tr><td style=\"text-align: right;\">-0.11327 </td><td style=\"text-align: right;\">-0.0854524 </td><td style=\"text-align: right;\"> 0.117834 </td><td style=\"text-align: right;\">0.17582  </td><td style=\"text-align: right;\"> 0.0246111</td><td style=\"text-align: right;\">-0.109778 </td><td style=\"text-align: right;\">-0.325837 </td><td style=\"text-align: right;\">-0.153545 </td><td style=\"text-align: right;\"> 0.272897 </td><td style=\"text-align: right;\"> 0.102445  </td><td style=\"text-align: right;\">0.063881</td><td style=\"text-align: right;\">-0.192117  </td><td style=\"text-align: right;\"> 0.0938325</td><td style=\"text-align: right;\">-0.0733746 </td><td style=\"text-align: right;\"> 0.0744583</td><td style=\"text-align: right;\"> 0.104653 </td><td style=\"text-align: right;\"> 0.108306 </td><td style=\"text-align: right;\">-0.130916  </td><td style=\"text-align: right;\">-0.205027 </td><td style=\"text-align: right;\">-0.163951 </td></tr>\n",
       "<tr><td style=\"text-align: right;\">-0.283534</td><td style=\"text-align: right;\"> 0.132475  </td><td style=\"text-align: right;\"> 0.0529393</td><td style=\"text-align: right;\">0.047105 </td><td style=\"text-align: right;\">-0.0216184</td><td style=\"text-align: right;\"> 0.0191014</td><td style=\"text-align: right;\">-0.110142 </td><td style=\"text-align: right;\"> 0.145835 </td><td style=\"text-align: right;\">-0.0683666</td><td style=\"text-align: right;\"> 0.00160141</td><td style=\"text-align: right;\">0.293288</td><td style=\"text-align: right;\">-0.108489  </td><td style=\"text-align: right;\"> 0.0729414</td><td style=\"text-align: right;\">-0.0967388 </td><td style=\"text-align: right;\">-0.195423 </td><td style=\"text-align: right;\"> 0.0700178</td><td style=\"text-align: right;\"> 0.056304 </td><td style=\"text-align: right;\"> 0.00316367</td><td style=\"text-align: right;\"> 0.0249952</td><td style=\"text-align: right;\">-0.163202 </td></tr>\n",
       "</tbody>\n",
       "</table>"
      ]
     },
     "metadata": {},
     "output_type": "display_data"
    },
    {
     "data": {
      "text/plain": []
     },
     "execution_count": 4,
     "metadata": {},
     "output_type": "execute_result"
    }
   ],
   "source": [
    "## In word2vec.ipynb, we see the top 20 most important categorizations\n",
    "# Let's filter just for those 20\n",
    "top_20_list = list(set(airbnb_names_vecs.names)  & set(top_20))\n",
    "airbnb_names_vecs = airbnb_names_vecs[valid_airbnb_names, :]\n",
    "airbnb_names_vecs = airbnb_names_vecs[top_20_list]\n",
    "airbnb_names_vecs\n",
    "#data = airbnb_names[valid_airbnb_names,:].cbind(airbnb_names_vecs[valid_airbnb_names,:])\n",
    "#data"
   ]
  },
  {
   "cell_type": "code",
   "execution_count": 5,
   "id": "9c546e7c-9e8a-4041-8fd3-b00d3fd8bf46",
   "metadata": {},
   "outputs": [
    {
     "data": {
      "text/plain": [
       "id                                  int64\n",
       "name                               object\n",
       "host_id                             int64\n",
       "host_name                          object\n",
       "neighbourhood_group                object\n",
       "neighbourhood                      object\n",
       "latitude                          float64\n",
       "longitude                         float64\n",
       "room_type                          object\n",
       "price                               int64\n",
       "minimum_nights                      int64\n",
       "number_of_reviews                   int64\n",
       "last_review                       float64\n",
       "reviews_per_month                 float64\n",
       "calculated_host_listings_count      int64\n",
       "availability_365                    int64\n",
       "number_of_reviews_ltm               int64\n",
       "license                           float64\n",
       "new_neighbourhood                  object\n",
       "C49                               float64\n",
       "C5                                float64\n",
       "C84                               float64\n",
       "C67                               float64\n",
       "C15                               float64\n",
       "C32                               float64\n",
       "C81                               float64\n",
       "C83                               float64\n",
       "C20                               float64\n",
       "C16                               float64\n",
       "C53                               float64\n",
       "C48                               float64\n",
       "C62                               float64\n",
       "C45                               float64\n",
       "C70                               float64\n",
       "C88                               float64\n",
       "C96                               float64\n",
       "C66                               float64\n",
       "C31                               float64\n",
       "C94                               float64\n",
       "dtype: object"
      ]
     },
     "execution_count": 5,
     "metadata": {},
     "output_type": "execute_result"
    }
   ],
   "source": [
    "data = airbnb_names[valid_airbnb_names,:].cbind(airbnb_names_vecs).as_data_frame()\n",
    "data.dtypes"
   ]
  },
  {
   "cell_type": "code",
   "execution_count": 6,
   "id": "54572673-932c-4afc-9be3-ebdb5e730c3a",
   "metadata": {},
   "outputs": [],
   "source": [
    "not_used = [\"id\", \"host_id\", \"name\", \"host_name\", \"neighbourhood\", \"latitude\", \"longitude\", \"price\", \"last_review\"]\n",
    "X = data.drop(not_used, axis = 1)\n",
    "# We want numbers to be of same type\n",
    "dict_ints = {'minimum_nights': float,\n",
    "             'number_of_reviews': float,\n",
    "             'calculated_host_listings_count': float,\n",
    "             'availability_365': float,\n",
    "             'number_of_reviews_ltm': float\n",
    "}\n",
    "X = X.astype(dict_ints)\n",
    "dict_cats = { \n",
    "    \"neighbourhood_group\": \"category\",\n",
    "    \"room_type\": \"category\",\n",
    "    \"new_neighbourhood\": \"category\"\n",
    "}\n",
    "list_cats = list(dict_cats.keys())\n",
    "\n",
    "X = X.astype(dict_cats)\n",
    "X.dtypes\n",
    "\n",
    "\n",
    "# Convert y to float as well\n",
    "y = data[\"price\"].astype(float)\n",
    "\n",
    "# One hot encode room type\n",
    "encoder = OneHotEncoder(handle_unknown = \"ignore\")\n",
    "encoder_df = pd.DataFrame(encoder.fit_transform(X[[\"room_type\"]]).toarray())\n",
    "# Merge with original dataset\n",
    "X_df = X.join(encoder_df)\n",
    "\n",
    "# Filter for top neighborhoods\n",
    "\n",
    "# One hot encode neighborhoods\n",
    "encoder_n = pd.DataFrame(encoder.fit_transform(X[[\"neighbourhood_group\"]]).toarray())\n",
    "encoder_n.columns = [4, 5, 6, 7, 8]\n",
    "# Merge with original dataset\n",
    "X = X_df.join(encoder_n)\n",
    "#Drop original categorical vartiables\n",
    "X.dtypes\n",
    "X = X.drop(list_cats, axis = 1)\n",
    "X.dtypes # all variables are floats\n",
    "X = X.fillna(0)\n"
   ]
  },
  {
   "cell_type": "code",
   "execution_count": null,
   "id": "07e8d09e-3fc3-4405-b8b7-c746cf6622c3",
   "metadata": {},
   "outputs": [],
   "source": [
    "## Create gradient-boosted model\n",
    "# All feature names must be strings\n",
    "X.columns = X.columns.astype(str)\n",
    "# Split into train and test\n",
    "X_train, X_test, y_train, y_test = train_test_split(X, y, test_size = 0.2)\n",
    "params = {\n",
    "    \"n_estimators\": 500,\n",
    "    \"max_depth\": 10,\n",
    "    \"min_samples_split\": 5,\n",
    "    \"learning_rate\": 0.01,\n",
    "    \"loss\": \"squared_error\"}\n",
    "reg = ensemble.GradientBoostingRegressor(**params)\n",
    "reg.fit(X_train, y_train)\n",
    "print(X_train)"
   ]
  },
  {
   "cell_type": "code",
   "execution_count": null,
   "id": "51cd7948-3b4c-4989-81b6-a04d7e30c5de",
   "metadata": {},
   "outputs": [],
   "source": [
    "from sklearn.metrics import mean_squared_error\n",
    "rmse = sqrt(mean_squared_error(y_test, reg.predict(X_test))) # manually extract rmse from mse\n",
    "print(rmse) #out-of-sample rmse"
   ]
  },
  {
   "cell_type": "code",
   "execution_count": null,
   "id": "c2d95da2-cf02-4837-ad3a-9338ca8cb004",
   "metadata": {},
   "outputs": [],
   "source": [
    "# variable importance\n"
   ]
  }
 ],
 "metadata": {
  "kernelspec": {
   "display_name": "Python 3 (ipykernel)",
   "language": "python",
   "name": "python3"
  },
  "language_info": {
   "codemirror_mode": {
    "name": "ipython",
    "version": 3
   },
   "file_extension": ".py",
   "mimetype": "text/x-python",
   "name": "python",
   "nbconvert_exporter": "python",
   "pygments_lexer": "ipython3",
   "version": "3.9.7"
  }
 },
 "nbformat": 4,
 "nbformat_minor": 5
}
