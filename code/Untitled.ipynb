{
 "cells": [
  {
   "cell_type": "code",
   "execution_count": 43,
   "id": "771a737c-bee9-4f91-9abd-5dec5cc45687",
   "metadata": {},
   "outputs": [],
   "source": [
    "# Libraries\n",
    "import pandas as pd\n",
    "from readtable import *\n",
    "import numpy as np"
   ]
  },
  {
   "cell_type": "code",
   "execution_count": 55,
   "id": "14f389e8-e509-437c-a6f6-4ba2ca0944b1",
   "metadata": {},
   "outputs": [
    {
     "data": {
      "text/plain": [
       "Index(['id', 'month', 'List_month', 'last_scraped', 'host_id', 'host_name',\n",
       "       'host_since', 'host_location', 'host_response_time',\n",
       "       'host_response_rate', 'host_is_superhost', 'host_listings_count',\n",
       "       'host_total_listings_count', 'neighbourhood', 'neighbourhood_cleansed',\n",
       "       'neighbourhood_group_cleansed', 'latitude', 'longitude',\n",
       "       'property_type', 'room_type', 'accommodates', 'bathrooms', 'bedrooms',\n",
       "       'beds', 'price', 'minimum_nights', 'maximum_nights', 'has_availability',\n",
       "       'availability_30', 'availability_60', 'availability_90',\n",
       "       'availability_365', 'number_of_reviews', 'first_review', 'last_review',\n",
       "       'review_scores_rating', 'review_scores_accuracy',\n",
       "       'review_scores_cleanliness', 'review_scores_checkin',\n",
       "       'review_scores_communication', 'review_scores_location',\n",
       "       'review_scores_value', 'instant_bookable',\n",
       "       'calculated_host_listings_count', 'reviews_per_month', 'amenities',\n",
       "       'scrape_batch', 'batch_YRMO', 'days_since_rev', 'days_since_first_rev',\n",
       "       'host_length', 'host_is_superhost_dum', 'room_type_dum',\n",
       "       'instant_bookable_dum', 'avg_lat', 'avg_lon', 'first_appearance',\n",
       "       'last_app', 'cum_sum', 'List_month_byhost_month',\n",
       "       'List_month_host_overall', 'List_month_id_overall', 'hotel_dum',\n",
       "       'List_month_byneigh'],\n",
       "      dtype='object')"
      ]
     },
     "execution_count": 55,
     "metadata": {},
     "output_type": "execute_result"
    }
   ],
   "source": [
    "# Data\n",
    "airbnb = getairbnbdata()\n"
   ]
  },
  {
   "cell_type": "code",
   "execution_count": 33,
   "id": "3721fb51-f318-44e6-a1e6-7fe045fcec8f",
   "metadata": {},
   "outputs": [
    {
     "data": {
      "text/plain": [
       "id                                  int64\n",
       "month                               int64\n",
       "List_month                          int64\n",
       "host_since                        float64\n",
       "host_location                      object\n",
       "host_response_time                 object\n",
       "host_response_rate                 object\n",
       "host_is_superhost                  object\n",
       "host_listings_count               float64\n",
       "host_total_listings_count         float64\n",
       "neighbourhood_cleansed             object\n",
       "neighbourhood_group_cleansed       object\n",
       "property_type                      object\n",
       "room_type                          object\n",
       "accommodates                      float64\n",
       "bathrooms                          object\n",
       "bedrooms                          float64\n",
       "beds                              float64\n",
       "price                             float64\n",
       "minimum_nights                    float64\n",
       "maximum_nights                    float64\n",
       "has_availability                   object\n",
       "availability_30                   float64\n",
       "availability_60                   float64\n",
       "availability_90                   float64\n",
       "availability_365                  float64\n",
       "number_of_reviews                 float64\n",
       "review_scores_rating              float64\n",
       "review_scores_accuracy            float64\n",
       "review_scores_cleanliness         float64\n",
       "review_scores_checkin             float64\n",
       "review_scores_communication       float64\n",
       "review_scores_location            float64\n",
       "review_scores_value               float64\n",
       "calculated_host_listings_count    float64\n",
       "reviews_per_month                 float64\n",
       "amenities                          object\n",
       "days_since_rev                    float64\n",
       "days_since_first_rev              float64\n",
       "host_length                       float64\n",
       "host_is_superhost_dum               int64\n",
       "room_type_dum                       int64\n",
       "instant_bookable_dum                int64\n",
       "avg_lat                           float64\n",
       "avg_lon                           float64\n",
       "first_appearance                  float64\n",
       "last_app                          float64\n",
       "cum_sum                             int64\n",
       "List_month_byhost_month             int64\n",
       "List_month_host_overall             int64\n",
       "List_month_id_overall               int64\n",
       "hotel_dum                           int64\n",
       "List_month_byneigh                  int64\n",
       "dtype: object"
      ]
     },
     "execution_count": 33,
     "metadata": {},
     "output_type": "execute_result"
    }
   ],
   "source": [
    "airbnb['host_since'] = (pd.to_datetime(airbnb['last_scraped']) - pd.to_datetime(airbnb['host_since'])) / np.timedelta64(1, 'D')\n",
    "drop = ['last_scraped', 'host_id', 'host_name', 'neighbourhood',\n",
    "       'latitude', 'longitude',\n",
    "       'first_review', 'last_review',\n",
    "       'scrape_batch', 'batch_YRMO',\n",
    "       'instant_bookable',\n",
    "       'host_location']\n",
    "data = airbnb.drop(drop, axis = 1)\n",
    "data.dtypes\n"
   ]
  },
  {
   "cell_type": "code",
   "execution_count": null,
   "id": "96918934-d888-41e9-98ae-b1bca9a40661",
   "metadata": {},
   "outputs": [],
   "source": [
    "# For gradient boosting, need all columns to be of same type\n",
    "# Convert float to int\n"
   ]
  },
  {
   "cell_type": "code",
   "execution_count": 59,
   "id": "18daa45a-6534-437b-bba7-8b9666094560",
   "metadata": {},
   "outputs": [],
   "source": []
  },
  {
   "cell_type": "code",
   "execution_count": 57,
   "id": "878ed220-5614-488d-be0f-da7480905bf8",
   "metadata": {},
   "outputs": [
    {
     "name": "stdout",
     "output_type": "stream",
     "text": [
      "             id  station_dist  station_dist2  park_dist  park_dist2\n",
      "0          3831      0.249637       0.301503   0.676109    1.021501\n",
      "1          5136      0.210077       0.306295   0.638516    1.018294\n",
      "2          5178      0.127743       0.168968   0.230626    0.296666\n",
      "3          5803      0.186458       0.227987   0.617910    0.963935\n",
      "4          7064      0.287763       0.350759   0.556234    0.814657\n",
      "...         ...           ...            ...        ...         ...\n",
      "37661  53662330      5.655837       7.857410   0.797285    1.293766\n",
      "37662  53662542      5.604813       7.698872   0.722559    1.135228\n",
      "37663  53662772      0.074870       0.103195   0.774796    0.948325\n",
      "37664  53663081      0.120837       0.121759   0.714898    0.844179\n",
      "37665  53665099      0.177626       0.262641   0.347464    0.473793\n",
      "\n",
      "[37666 rows x 5 columns]\n"
     ]
    }
   ],
   "source": [
    "clean_data_path = '../data/cleaned_data_updated.csv'\n",
    "select = ['id', 'station_dist', 'station_dist2', 'park_dist',\n",
    "       'park_dist2']\n",
    "distances = pd.read_csv(clean_data_path)[select]\n",
    "print(distances)"
   ]
  }
 ],
 "metadata": {
  "kernelspec": {
   "display_name": "Python 3 (ipykernel)",
   "language": "python",
   "name": "python3"
  },
  "language_info": {
   "codemirror_mode": {
    "name": "ipython",
    "version": 3
   },
   "file_extension": ".py",
   "mimetype": "text/x-python",
   "name": "python",
   "nbconvert_exporter": "python",
   "pygments_lexer": "ipython3",
   "version": "3.8.10"
  }
 },
 "nbformat": 4,
 "nbformat_minor": 5
}
