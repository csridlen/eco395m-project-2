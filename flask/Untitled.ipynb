{
 "cells": [
  {
   "cell_type": "code",
   "execution_count": 9,
   "id": "bd4a878d-6307-4881-b27e-ef210aa265c0",
   "metadata": {},
   "outputs": [
    {
     "name": "stdout",
     "output_type": "stream",
     "text": [
      "                                                name neighbourhood_group  \\\n",
      "0                              Skylit Midtown Castle           Manhattan   \n",
      "1  Whole flr w/private bdrm, bath & kitchen(pls r...            Brooklyn   \n",
      "2                                    BlissArtsSpace!            Brooklyn   \n",
      "3           Spacious Brooklyn Duplex, Patio + Garden            Brooklyn   \n",
      "4                   Large Furnished Room Near B'way　           Manhattan   \n",
      "\n",
      "   latitude  longitude        room_type  price  minimum_nights  \\\n",
      "0  40.75356  -73.98559  Entire home/apt    150              30   \n",
      "1  40.68494  -73.95765  Entire home/apt     76               1   \n",
      "2  40.68535  -73.95512     Private room     60              30   \n",
      "3  40.66265  -73.99454  Entire home/apt    275               5   \n",
      "4  40.76457  -73.98317     Private room     68               2   \n",
      "\n",
      "   number_of_reviews  reviews_per_month  calculated_host_listings_count  \\\n",
      "0                 48               0.33                               3   \n",
      "1                408               5.03                               1   \n",
      "2                 50               0.54                               1   \n",
      "3                  2               0.02                               1   \n",
      "4                490               3.64                               1   \n",
      "\n",
      "   availability_365  number_of_reviews_ltm          new_neighbourhood  \n",
      "0               340                      0       Midtown-Times Square  \n",
      "1               208                     58  Bedford-Stuyvesant (West)  \n",
      "2               365                      0  Bedford-Stuyvesant (West)  \n",
      "3               204                      1         Sunset Park (West)  \n",
      "4               243                     17       Midtown-Times Square  \n"
     ]
    }
   ],
   "source": [
    "import pandas as pd\n",
    "import folium\n",
    "from folium import plugins\n",
    "import mapping as mp\n",
    "import numpy as np\n",
    "\n",
    "\n",
    "df = pd.read_csv(\"../data/newnh_airbnb_2021.csv\")\n",
    "not_used = [\"id\", \"host_id\", \"host_name\", \"neighbourhood\", \"last_review\", \"license\"]\n",
    "X = df.drop(not_used, axis = 1)\n",
    "\n",
    "print(X.head(5))"
   ]
  },
  {
   "cell_type": "code",
   "execution_count": null,
   "id": "58d8817d-af82-4fb6-a775-7f8564d09ed9",
   "metadata": {},
   "outputs": [],
   "source": []
  }
 ],
 "metadata": {
  "kernelspec": {
   "display_name": "Python 3 (ipykernel)",
   "language": "python",
   "name": "python3"
  },
  "language_info": {
   "codemirror_mode": {
    "name": "ipython",
    "version": 3
   },
   "file_extension": ".py",
   "mimetype": "text/x-python",
   "name": "python",
   "nbconvert_exporter": "python",
   "pygments_lexer": "ipython3",
   "version": "3.9.7"
  }
 },
 "nbformat": 4,
 "nbformat_minor": 5
}
